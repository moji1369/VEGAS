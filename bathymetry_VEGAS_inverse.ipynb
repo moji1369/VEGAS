{
 "cells": [
  {
   "cell_type": "code",
   "execution_count": 2,
   "metadata": {},
   "outputs": [
    {
     "name": "stderr",
     "output_type": "stream",
     "text": [
      "Using TensorFlow backend.\n"
     ]
    }
   ],
   "source": [
    "# import relevant libraries\n",
    "\n",
    "import numpy as np\n",
    "import copy\n",
    "from sklearn.model_selection import train_test_split\n",
    "import keras\n",
    "from keras.models import Model, Sequential\n",
    "from keras import regularizers\n",
    "from keras import backend as K\n",
    "import Data_prep as dp\n",
    "from scipy.io import savemat, loadmat\n",
    "from keras.losses import mse, binary_crossentropy\n",
    "from keras.layers import Reshape, Lambda, Input, Dense, Flatten, Conv2D, Conv2DTranspose\n",
    "from keras.layers import Activation, ZeroPadding2D, BatchNormalization, MaxPooling2D, UpSampling2D\n",
    "from keras.utils.vis_utils import model_to_dot\n",
    "from keras.utils import plot_model\n",
    "K.set_image_data_format('channels_last')\n",
    "import warnings\n",
    "warnings.filterwarnings(\"ignore\")\n",
    "import matplotlib.pyplot as plt\n",
    "%matplotlib inline"
   ]
  },
  {
   "cell_type": "code",
   "execution_count": 3,
   "metadata": {},
   "outputs": [],
   "source": [
    "# define sampler of SVE bottleneck layer\n",
    "\n",
    "def sampling(input_param):\n",
    "    \"\"\"\n",
    "    sampling the latent space from a Gaussian distribution:\n",
    "\n",
    "    # Input\n",
    "        input_param: mean and log of variance of q(z|x)\n",
    "\n",
    "    # Output\n",
    "        z: sampled latent space vector\n",
    "    \"\"\"\n",
    "    \n",
    "    #mean and log(var):\n",
    "    z_mean, z_log_var = input_param \n",
    "    \n",
    "    #dimensions:\n",
    "    dim_1 = K.shape(z_mean)[0]\n",
    "    dim_2 = K.int_shape(z_mean)[1]\n",
    "    \n",
    "    #sampling:\n",
    "    norm_sample = K.random_normal(shape=(dim_1, dim_2))\n",
    "    return z_mean + K.exp(0.5 * z_log_var) * norm_sample"
   ]
  },
  {
   "cell_type": "code",
   "execution_count": 4,
   "metadata": {},
   "outputs": [
    {
     "name": "stdout",
     "output_type": "stream",
     "text": [
      "Model: \"encoder\"\n",
      "__________________________________________________________________________________________________\n",
      "Layer (type)                    Output Shape         Param #     Connected to                     \n",
      "==================================================================================================\n",
      "bathymetry (InputLayer)         (None, 41, 501, 1)   0                                            \n",
      "__________________________________________________________________________________________________\n",
      "conv2d_1 (Conv2D)               (None, 41, 501, 8)   80          bathymetry[0][0]                 \n",
      "__________________________________________________________________________________________________\n",
      "activation_1 (Activation)       (None, 41, 501, 8)   0           conv2d_1[0][0]                   \n",
      "__________________________________________________________________________________________________\n",
      "max_pooling2d_1 (MaxPooling2D)  (None, 21, 251, 8)   0           activation_1[0][0]               \n",
      "__________________________________________________________________________________________________\n",
      "conv2d_2 (Conv2D)               (None, 21, 251, 16)  1168        max_pooling2d_1[0][0]            \n",
      "__________________________________________________________________________________________________\n",
      "activation_2 (Activation)       (None, 21, 251, 16)  0           conv2d_2[0][0]                   \n",
      "__________________________________________________________________________________________________\n",
      "max_pooling2d_2 (MaxPooling2D)  (None, 11, 126, 16)  0           activation_2[0][0]               \n",
      "__________________________________________________________________________________________________\n",
      "conv2d_3 (Conv2D)               (None, 11, 126, 32)  4640        max_pooling2d_2[0][0]            \n",
      "__________________________________________________________________________________________________\n",
      "activation_3 (Activation)       (None, 11, 126, 32)  0           conv2d_3[0][0]                   \n",
      "__________________________________________________________________________________________________\n",
      "max_pooling2d_3 (MaxPooling2D)  (None, 6, 63, 32)    0           activation_3[0][0]               \n",
      "__________________________________________________________________________________________________\n",
      "flatten_1 (Flatten)             (None, 12096)        0           max_pooling2d_3[0][0]            \n",
      "__________________________________________________________________________________________________\n",
      "dense_1 (Dense)                 (None, 700)          8467900     flatten_1[0][0]                  \n",
      "__________________________________________________________________________________________________\n",
      "activation_4 (Activation)       (None, 700)          0           dense_1[0][0]                    \n",
      "__________________________________________________________________________________________________\n",
      "z_mean (Dense)                  (None, 50)           35050       activation_4[0][0]               \n",
      "__________________________________________________________________________________________________\n",
      "z_log_var (Dense)               (None, 50)           35050       activation_4[0][0]               \n",
      "__________________________________________________________________________________________________\n",
      "latent_encode (Lambda)          (None, 50)           0           z_mean[0][0]                     \n",
      "                                                                 z_log_var[0][0]                  \n",
      "==================================================================================================\n",
      "Total params: 8,543,888\n",
      "Trainable params: 8,543,888\n",
      "Non-trainable params: 0\n",
      "__________________________________________________________________________________________________\n"
     ]
    }
   ],
   "source": [
    "#encoder network:\n",
    "\n",
    "#regularization coefficient:\n",
    "l_encode=0.001\n",
    "\n",
    "#act. func. (hidden layers)\n",
    "act='tanh'\n",
    "\n",
    "#act. func. (output layers)\n",
    "act_out='linear'\n",
    "\n",
    "#input:\n",
    "bathy_input = Input(shape=(41,501, 1), name = 'bathymetry')\n",
    "\n",
    "#CNN/pooling layer 1&2:\n",
    "x = Conv2D(8, (3, 3), strides=1, padding='same',kernel_regularizer = regularizers.l2(l_encode))(bathy_input)\n",
    "#x = BatchNormalization(axis = 3)(x)\n",
    "x = Activation(act)(x)\n",
    "x = MaxPooling2D((2, 2), padding='same')(x)\n",
    "\n",
    "#CNN/pooling layer 3&4:\n",
    "x = Conv2D(16, (3, 3), strides=1, padding='same',kernel_regularizer = regularizers.l2(l_encode))(x)\n",
    "#x = BatchNormalization(axis = 3)(x)\n",
    "x = Activation(act)(x)\n",
    "x = MaxPooling2D((2, 2), padding='same')(x)\n",
    "\n",
    "#CNN/pooling layer 5&6:\n",
    "x = Conv2D(32, (3, 3), strides=1, padding='same',kernel_regularizer = regularizers.l2(l_encode))(x)\n",
    "#x = BatchNormalization(axis = 3)(x)\n",
    "x = Activation(act)(x)\n",
    "x = MaxPooling2D((2, 2), padding='same')(x)\n",
    "\n",
    "#flattening:\n",
    "shape = K.int_shape(x)\n",
    "x = Flatten()(x)\n",
    "\n",
    "#fully connected layer 1:\n",
    "x = Dense(700,kernel_regularizer = regularizers.l2(l_encode))(x)\n",
    "#x = BatchNormalization(axis = 1)(x)\n",
    "x = Activation(act)(x)\n",
    "\n",
    "#output:\n",
    "z_mean = Dense(50,activation=act_out,name='z_mean')(x)\n",
    "z_log_var = Dense(50,activation=act_out,name='z_log_var')(x)\n",
    "z = Lambda(sampling, output_shape=(50,), name='latent_encode')([z_mean, z_log_var])\n",
    "\n",
    "#set encoder model:\n",
    "encoder = Model(bathy_input, [z_mean, z_log_var, z], name='encoder')\n",
    "encoder.summary()"
   ]
  },
  {
   "cell_type": "code",
   "execution_count": 5,
   "metadata": {},
   "outputs": [],
   "source": [
    "encoder.trainable=True"
   ]
  },
  {
   "cell_type": "code",
   "execution_count": 6,
   "metadata": {},
   "outputs": [
    {
     "name": "stdout",
     "output_type": "stream",
     "text": [
      "Model: \"decoder_vx\"\n",
      "__________________________________________________________________________________________________\n",
      "Layer (type)                    Output Shape         Param #     Connected to                     \n",
      "==================================================================================================\n",
      "latent_decode (InputLayer)      (None, 50)           0                                            \n",
      "__________________________________________________________________________________________________\n",
      "BC (InputLayer)                 (None, 2)            0                                            \n",
      "__________________________________________________________________________________________________\n",
      "concatenate_1 (Concatenate)     (None, 52)           0           latent_decode[0][0]              \n",
      "                                                                 BC[0][0]                         \n",
      "__________________________________________________________________________________________________\n",
      "dense_2 (Dense)                 (None, 700)          37100       concatenate_1[0][0]              \n",
      "__________________________________________________________________________________________________\n",
      "activation_5 (Activation)       (None, 700)          0           dense_2[0][0]                    \n",
      "__________________________________________________________________________________________________\n",
      "dense_3 (Dense)                 (None, 9920)         6953920     activation_5[0][0]               \n",
      "__________________________________________________________________________________________________\n",
      "activation_6 (Activation)       (None, 9920)         0           dense_3[0][0]                    \n",
      "__________________________________________________________________________________________________\n",
      "reshape_1 (Reshape)             (None, 5, 62, 32)    0           activation_6[0][0]               \n",
      "__________________________________________________________________________________________________\n",
      "conv2d_transpose_1 (Conv2DTrans (None, 5, 62, 32)    9248        reshape_1[0][0]                  \n",
      "__________________________________________________________________________________________________\n",
      "activation_7 (Activation)       (None, 5, 62, 32)    0           conv2d_transpose_1[0][0]         \n",
      "__________________________________________________________________________________________________\n",
      "up_sampling2d_1 (UpSampling2D)  (None, 10, 124, 32)  0           activation_7[0][0]               \n",
      "__________________________________________________________________________________________________\n",
      "conv2d_transpose_2 (Conv2DTrans (None, 10, 124, 16)  4624        up_sampling2d_1[0][0]            \n",
      "__________________________________________________________________________________________________\n",
      "activation_8 (Activation)       (None, 10, 124, 16)  0           conv2d_transpose_2[0][0]         \n",
      "__________________________________________________________________________________________________\n",
      "up_sampling2d_2 (UpSampling2D)  (None, 20, 248, 16)  0           activation_8[0][0]               \n",
      "__________________________________________________________________________________________________\n",
      "conv2d_transpose_3 (Conv2DTrans (None, 20, 248, 8)   1160        up_sampling2d_2[0][0]            \n",
      "__________________________________________________________________________________________________\n",
      "activation_9 (Activation)       (None, 20, 248, 8)   0           conv2d_transpose_3[0][0]         \n",
      "__________________________________________________________________________________________________\n",
      "up_sampling2d_3 (UpSampling2D)  (None, 40, 496, 8)   0           activation_9[0][0]               \n",
      "__________________________________________________________________________________________________\n",
      "velocity_x (Conv2DTranspose)    (None, 40, 496, 1)   73          up_sampling2d_3[0][0]            \n",
      "==================================================================================================\n",
      "Total params: 7,006,125\n",
      "Trainable params: 7,006,125\n",
      "Non-trainable params: 0\n",
      "__________________________________________________________________________________________________\n"
     ]
    }
   ],
   "source": [
    "#decoder network of v_x:\n",
    "\n",
    "#regularization coefficient\n",
    "l_decode=0.001\n",
    "\n",
    "#input/BC:\n",
    "BC_input = Input(shape=(2, ), name = 'BC') #BC\n",
    "latent_input = Input(shape=(50,), name='latent_decode') #input\n",
    "x = keras.layers.concatenate([latent_input, BC_input])\n",
    "\n",
    "#fully connected layer 1:\n",
    "x = Dense(700, kernel_regularizer = regularizers.l2(l_decode))(x)\n",
    "#x = BatchNormalization(axis = 1)(x)\n",
    "x = Activation(act)(x)\n",
    "\n",
    "#FC/CNN connection & reshaping:\n",
    "x = Dense((5)*(62)*shape[3], kernel_regularizer = regularizers.l2(l_decode))(x)\n",
    "#x = BatchNormalization(axis = 1)(x)\n",
    "x = Activation(act)(x)\n",
    "x = Reshape((5, 62, shape[3]))(x)\n",
    "\n",
    "#CNN/upsampling layer 1:\n",
    "x = Conv2DTranspose(32, (3, 3), padding='same', kernel_regularizer = regularizers.l2(l_decode))(x)\n",
    "#x = BatchNormalization(axis = 3)(x)\n",
    "x = Activation(act)(x)\n",
    "x = UpSampling2D((2, 2))(x)\n",
    "\n",
    "#CNN/upsampling layer 2:\n",
    "x = Conv2DTranspose(16, (3, 3), padding='same', kernel_regularizer = regularizers.l2(l_decode))(x)\n",
    "#x = BatchNormalization(axis = 3)(x)\n",
    "x = Activation(act)(x)\n",
    "x = UpSampling2D((2, 2))(x)\n",
    "\n",
    "#CNN/upsampling layer 3:\n",
    "x = Conv2DTranspose(8, (3, 3), padding='same', kernel_regularizer = regularizers.l2(l_decode))(x)\n",
    "#x = BatchNormalization(axis = 3)(x)\n",
    "x = Activation(act)(x)\n",
    "x = UpSampling2D((2, 2))(x)\n",
    "\n",
    "#output:\n",
    "outputs = Conv2DTranspose(1, (3, 3), activation=act_out, padding='same', name='velocity_x')(x)\n",
    "\n",
    "#set decoder model:\n",
    "decoder_vx = Model([latent_input,BC_input], outputs, name='decoder_vx')\n",
    "decoder_vx.summary()"
   ]
  },
  {
   "cell_type": "code",
   "execution_count": 7,
   "metadata": {},
   "outputs": [],
   "source": [
    "decoder_vx.trainable=True"
   ]
  },
  {
   "cell_type": "code",
   "execution_count": 8,
   "metadata": {},
   "outputs": [
    {
     "name": "stdout",
     "output_type": "stream",
     "text": [
      "Model: \"decoder_vy\"\n",
      "__________________________________________________________________________________________________\n",
      "Layer (type)                    Output Shape         Param #     Connected to                     \n",
      "==================================================================================================\n",
      "latent_decode (InputLayer)      (None, 50)           0                                            \n",
      "__________________________________________________________________________________________________\n",
      "BC (InputLayer)                 (None, 2)            0                                            \n",
      "__________________________________________________________________________________________________\n",
      "concatenate_2 (Concatenate)     (None, 52)           0           latent_decode[0][0]              \n",
      "                                                                 BC[0][0]                         \n",
      "__________________________________________________________________________________________________\n",
      "dense_4 (Dense)                 (None, 700)          37100       concatenate_2[0][0]              \n",
      "__________________________________________________________________________________________________\n",
      "activation_10 (Activation)      (None, 700)          0           dense_4[0][0]                    \n",
      "__________________________________________________________________________________________________\n",
      "dense_5 (Dense)                 (None, 9920)         6953920     activation_10[0][0]              \n",
      "__________________________________________________________________________________________________\n",
      "activation_11 (Activation)      (None, 9920)         0           dense_5[0][0]                    \n",
      "__________________________________________________________________________________________________\n",
      "reshape_2 (Reshape)             (None, 5, 62, 32)    0           activation_11[0][0]              \n",
      "__________________________________________________________________________________________________\n",
      "conv2d_transpose_4 (Conv2DTrans (None, 5, 62, 32)    9248        reshape_2[0][0]                  \n",
      "__________________________________________________________________________________________________\n",
      "activation_12 (Activation)      (None, 5, 62, 32)    0           conv2d_transpose_4[0][0]         \n",
      "__________________________________________________________________________________________________\n",
      "up_sampling2d_4 (UpSampling2D)  (None, 10, 124, 32)  0           activation_12[0][0]              \n",
      "__________________________________________________________________________________________________\n",
      "conv2d_transpose_5 (Conv2DTrans (None, 10, 124, 16)  4624        up_sampling2d_4[0][0]            \n",
      "__________________________________________________________________________________________________\n",
      "activation_13 (Activation)      (None, 10, 124, 16)  0           conv2d_transpose_5[0][0]         \n",
      "__________________________________________________________________________________________________\n",
      "up_sampling2d_5 (UpSampling2D)  (None, 20, 248, 16)  0           activation_13[0][0]              \n",
      "__________________________________________________________________________________________________\n",
      "conv2d_transpose_6 (Conv2DTrans (None, 20, 248, 8)   1160        up_sampling2d_5[0][0]            \n",
      "__________________________________________________________________________________________________\n",
      "activation_14 (Activation)      (None, 20, 248, 8)   0           conv2d_transpose_6[0][0]         \n",
      "__________________________________________________________________________________________________\n",
      "up_sampling2d_6 (UpSampling2D)  (None, 40, 496, 8)   0           activation_14[0][0]              \n",
      "__________________________________________________________________________________________________\n",
      "velocity_y (Conv2DTranspose)    (None, 40, 496, 1)   73          up_sampling2d_6[0][0]            \n",
      "==================================================================================================\n",
      "Total params: 7,006,125\n",
      "Trainable params: 7,006,125\n",
      "Non-trainable params: 0\n",
      "__________________________________________________________________________________________________\n"
     ]
    }
   ],
   "source": [
    "#decoder network of v_y:\n",
    "\n",
    "#regularization coefficient\n",
    "l_decode=0.001\n",
    "\n",
    "#input/BC:\n",
    "BC_input = Input(shape=(2, ), name = 'BC') #BC\n",
    "latent_input = Input(shape=(50,), name='latent_decode') #input\n",
    "x = keras.layers.concatenate([latent_input, BC_input])\n",
    "\n",
    "#fully connected layer 1:\n",
    "x = Dense(700, kernel_regularizer = regularizers.l2(l_decode))(x)\n",
    "#x = BatchNormalization(axis = 1)(x)\n",
    "x = Activation(act)(x)\n",
    "\n",
    "#FC/CNN connection & reshaping:\n",
    "x = Dense((5)*(62)*shape[3], kernel_regularizer = regularizers.l2(l_decode))(x)\n",
    "#x = BatchNormalization(axis = 1)(x)\n",
    "x = Activation(act)(x)\n",
    "x = Reshape((5, 62, shape[3]))(x)\n",
    "\n",
    "#CNN/upsampling layer 1:\n",
    "x = Conv2DTranspose(32, (3, 3), padding='same', kernel_regularizer = regularizers.l2(l_decode))(x)\n",
    "#x = BatchNormalization(axis = 3)(x)\n",
    "x = Activation(act)(x)\n",
    "x = UpSampling2D((2, 2))(x)\n",
    "\n",
    "#CNN/upsampling layer 2:\n",
    "x = Conv2DTranspose(16, (3, 3), padding='same', kernel_regularizer = regularizers.l2(l_decode))(x)\n",
    "#x = BatchNormalization(axis = 3)(x)\n",
    "x = Activation(act)(x)\n",
    "x = UpSampling2D((2, 2))(x)\n",
    "\n",
    "#CNN/upsampling layer 3:\n",
    "x = Conv2DTranspose(8, (3, 3), padding='same', kernel_regularizer = regularizers.l2(l_decode))(x)\n",
    "#x = BatchNormalization(axis = 3)(x)\n",
    "x = Activation(act)(x)\n",
    "x = UpSampling2D((2, 2))(x)\n",
    "\n",
    "#output:\n",
    "outputs = Conv2DTranspose(1, (3, 3), activation=act_out, padding='same', name='velocity_y')(x)\n",
    "\n",
    "#set decoder model:\n",
    "decoder_vy = Model([latent_input,BC_input], outputs, name='decoder_vy')\n",
    "decoder_vy.summary()"
   ]
  },
  {
   "cell_type": "code",
   "execution_count": 9,
   "metadata": {},
   "outputs": [],
   "source": [
    "decoder_vy.trainable=True"
   ]
  },
  {
   "cell_type": "code",
   "execution_count": 10,
   "metadata": {},
   "outputs": [
    {
     "name": "stdout",
     "output_type": "stream",
     "text": [
      "Model: \"decoder_Z\"\n",
      "__________________________________________________________________________________________________\n",
      "Layer (type)                    Output Shape         Param #     Connected to                     \n",
      "==================================================================================================\n",
      "latent_decode (InputLayer)      (None, 50)           0                                            \n",
      "__________________________________________________________________________________________________\n",
      "BC (InputLayer)                 (None, 2)            0                                            \n",
      "__________________________________________________________________________________________________\n",
      "concatenate_3 (Concatenate)     (None, 52)           0           latent_decode[0][0]              \n",
      "                                                                 BC[0][0]                         \n",
      "__________________________________________________________________________________________________\n",
      "dense_6 (Dense)                 (None, 700)          37100       concatenate_3[0][0]              \n",
      "__________________________________________________________________________________________________\n",
      "activation_15 (Activation)      (None, 700)          0           dense_6[0][0]                    \n",
      "__________________________________________________________________________________________________\n",
      "dense_7 (Dense)                 (None, 9920)         6953920     activation_15[0][0]              \n",
      "__________________________________________________________________________________________________\n",
      "activation_16 (Activation)      (None, 9920)         0           dense_7[0][0]                    \n",
      "__________________________________________________________________________________________________\n",
      "reshape_3 (Reshape)             (None, 5, 62, 32)    0           activation_16[0][0]              \n",
      "__________________________________________________________________________________________________\n",
      "conv2d_transpose_7 (Conv2DTrans (None, 5, 62, 32)    9248        reshape_3[0][0]                  \n",
      "__________________________________________________________________________________________________\n",
      "activation_17 (Activation)      (None, 5, 62, 32)    0           conv2d_transpose_7[0][0]         \n",
      "__________________________________________________________________________________________________\n",
      "up_sampling2d_7 (UpSampling2D)  (None, 10, 124, 32)  0           activation_17[0][0]              \n",
      "__________________________________________________________________________________________________\n",
      "conv2d_transpose_8 (Conv2DTrans (None, 10, 124, 16)  4624        up_sampling2d_7[0][0]            \n",
      "__________________________________________________________________________________________________\n",
      "activation_18 (Activation)      (None, 10, 124, 16)  0           conv2d_transpose_8[0][0]         \n",
      "__________________________________________________________________________________________________\n",
      "up_sampling2d_8 (UpSampling2D)  (None, 20, 248, 16)  0           activation_18[0][0]              \n",
      "__________________________________________________________________________________________________\n",
      "conv2d_transpose_9 (Conv2DTrans (None, 20, 248, 8)   1160        up_sampling2d_8[0][0]            \n",
      "__________________________________________________________________________________________________\n",
      "activation_19 (Activation)      (None, 20, 248, 8)   0           conv2d_transpose_9[0][0]         \n",
      "__________________________________________________________________________________________________\n",
      "up_sampling2d_9 (UpSampling2D)  (None, 40, 496, 8)   0           activation_19[0][0]              \n",
      "__________________________________________________________________________________________________\n",
      "velocity_Z (Conv2DTranspose)    (None, 40, 496, 1)   73          up_sampling2d_9[0][0]            \n",
      "==================================================================================================\n",
      "Total params: 7,006,125\n",
      "Trainable params: 7,006,125\n",
      "Non-trainable params: 0\n",
      "__________________________________________________________________________________________________\n"
     ]
    }
   ],
   "source": [
    "#decoder network of Z (bathymetry):\n",
    "\n",
    "#regularization coefficient\n",
    "l_decode=0.001\n",
    "\n",
    "#input/BC:\n",
    "BC_input = Input(shape=(2, ), name = 'BC') #BC\n",
    "latent_input = Input(shape=(50,), name='latent_decode') #input\n",
    "x = keras.layers.concatenate([latent_input, BC_input])\n",
    "\n",
    "#fully connected layer 1:\n",
    "x = Dense(700, kernel_regularizer = regularizers.l2(l_decode))(x)\n",
    "#x = BatchNormalization(axis = 1)(x)\n",
    "x = Activation(act)(x)\n",
    "\n",
    "#FC/CNN connection & reshaping:\n",
    "x = Dense((5)*(62)*shape[3], kernel_regularizer = regularizers.l2(l_decode))(x)\n",
    "#x = BatchNormalization(axis = 1)(x)\n",
    "x = Activation(act)(x)\n",
    "x = Reshape((5, 62, shape[3]))(x)\n",
    "\n",
    "#CNN/upsampling layer 1:\n",
    "x = Conv2DTranspose(32, (3, 3), padding='same', kernel_regularizer = regularizers.l2(l_decode))(x)\n",
    "#x = BatchNormalization(axis = 3)(x)\n",
    "x = Activation(act)(x)\n",
    "x = UpSampling2D((2, 2))(x)\n",
    "\n",
    "#CNN/upsampling layer 2:\n",
    "x = Conv2DTranspose(16, (3, 3), padding='same', kernel_regularizer = regularizers.l2(l_decode))(x)\n",
    "#x = BatchNormalization(axis = 3)(x)\n",
    "x = Activation(act)(x)\n",
    "x = UpSampling2D((2, 2))(x)\n",
    "\n",
    "#CNN/upsampling layer 3:\n",
    "x = Conv2DTranspose(8, (3, 3), padding='same', kernel_regularizer = regularizers.l2(l_decode))(x)\n",
    "#x = BatchNormalization(axis = 3)(x)\n",
    "x = Activation(act)(x)\n",
    "x = UpSampling2D((2, 2))(x)\n",
    "\n",
    "#output:\n",
    "outputs = Conv2DTranspose(1, (3, 3), activation=act_out, padding='same', name='velocity_Z')(x)\n",
    "\n",
    "#set decoder model:\n",
    "decoder_Z = Model([latent_input,BC_input], outputs, name='decoder_Z')\n",
    "decoder_Z.summary()"
   ]
  },
  {
   "cell_type": "code",
   "execution_count": 11,
   "metadata": {},
   "outputs": [],
   "source": [
    "decoder_Z.trainable=True"
   ]
  },
  {
   "cell_type": "code",
   "execution_count": 12,
   "metadata": {},
   "outputs": [
    {
     "data": {
      "text/plain": [
       "TensorShape([None, None, None, 1])"
      ]
     },
     "execution_count": 12,
     "metadata": {},
     "output_type": "execute_result"
    }
   ],
   "source": [
    "# set SVE model\n",
    "\n",
    "outputs_vx = decoder_vx([encoder(bathy_input)[2],BC_input])\n",
    "outputs_vy = decoder_vy([encoder(bathy_input)[2],BC_input])\n",
    "outputs_Z = decoder_Z([encoder(bathy_input)[2],BC_input])\n",
    "outputs= [outputs_vx,outputs_vy,outputs_Z]\n",
    "\n",
    "vae = Model([bathy_input,BC_input], outputs, name='vae')\n",
    "outputs[0].shape"
   ]
  },
  {
   "cell_type": "code",
   "execution_count": 13,
   "metadata": {},
   "outputs": [],
   "source": [
    "#SVE loss function (can use loss='mse'+'KL divergence'):\n",
    "\n",
    "def vae_loss(y_true, y_pred):\n",
    "    sig_log=0\n",
    "    mu=0\n",
    "    xent_loss = 1*mse(K.flatten(y_true), K.flatten(y_pred))\n",
    "    kl_loss=-0.5*K.mean(1+z_log_var-sig_log-K.square(z_mean-mu)/np.exp(sig_log)-K.exp(z_log_var)/np.exp(sig_log),axis=-1)    \n",
    "    vae_loss = xent_loss +0.001*kl_loss\n",
    "    return vae_loss"
   ]
  },
  {
   "cell_type": "code",
   "execution_count": 14,
   "metadata": {},
   "outputs": [
    {
     "name": "stdout",
     "output_type": "stream",
     "text": [
      "Model: \"vae\"\n",
      "__________________________________________________________________________________________________\n",
      "Layer (type)                    Output Shape         Param #     Connected to                     \n",
      "==================================================================================================\n",
      "bathymetry (InputLayer)         (None, 41, 501, 1)   0                                            \n",
      "__________________________________________________________________________________________________\n",
      "encoder (Model)                 [(None, 50), (None,  8543888     bathymetry[0][0]                 \n",
      "                                                                 bathymetry[0][0]                 \n",
      "                                                                 bathymetry[0][0]                 \n",
      "__________________________________________________________________________________________________\n",
      "BC (InputLayer)                 (None, 2)            0                                            \n",
      "__________________________________________________________________________________________________\n",
      "decoder_vx (Model)              (None, 40, 496, 1)   7006125     encoder[1][2]                    \n",
      "                                                                 BC[0][0]                         \n",
      "__________________________________________________________________________________________________\n",
      "decoder_vy (Model)              (None, 40, 496, 1)   7006125     encoder[2][2]                    \n",
      "                                                                 BC[0][0]                         \n",
      "__________________________________________________________________________________________________\n",
      "decoder_Z (Model)               (None, 40, 496, 1)   7006125     encoder[3][2]                    \n",
      "                                                                 BC[0][0]                         \n",
      "==================================================================================================\n",
      "Total params: 29,562,263\n",
      "Trainable params: 29,562,263\n",
      "Non-trainable params: 0\n",
      "__________________________________________________________________________________________________\n"
     ]
    }
   ],
   "source": [
    "#compile SVE:\n",
    "\n",
    "opt = keras.optimizers.Adam(lr=0.001, beta_1=0.9, beta_2=0.999, decay=0.001, amsgrad=False)\n",
    "\n",
    "vae.compile(optimizer=opt, loss=vae_loss, metrics=['mse'])\n",
    "vae.summary()"
   ]
  },
  {
   "cell_type": "code",
   "execution_count": 15,
   "metadata": {},
   "outputs": [
    {
     "name": "stdout",
     "output_type": "stream",
     "text": [
      "(1, 4500)\n",
      "(20541, 4500)\n"
     ]
    }
   ],
   "source": [
    "#load/read train and validation data\n",
    "\n",
    "data = loadmat('Sav_BC_func_PCGA_1std_noise10_std4_zmax94_48_12_s0_5_6.mat')\n",
    "\n",
    "vel0 = data['velocity_prof'] #velocities\n",
    "z_f0 = data['z_f'] #free surface elevation\n",
    "Q_b0 = data['Q_b'] #influx\n",
    "Z0 = data['Z'] #bathymetry\n",
    "\n",
    "#check data shape:\n",
    "print(z_f0.shape)\n",
    "print(Z0.shape)"
   ]
  },
  {
   "cell_type": "code",
   "execution_count": 16,
   "metadata": {},
   "outputs": [
    {
     "name": "stdout",
     "output_type": "stream",
     "text": [
      "(1, 450)\n",
      "(20541, 450)\n"
     ]
    }
   ],
   "source": [
    "#load/read test data\n",
    "\n",
    "data = loadmat('Sav_BC_func_PCGA_1std_noise10_std4_zmax94_48_12_s0_5_6_test.mat')\n",
    "\n",
    "vel1 = data['velocity_prof'] #velocities\n",
    "z_f1 = data['z_f'] #free surface elevation\n",
    "Q_b1 = data['Q_b'] #influx\n",
    "Z1 = data['Z'] #bathymetry\n",
    "\n",
    "#check data shape:\n",
    "print(z_f1.shape)\n",
    "print(Z1.shape)"
   ]
  },
  {
   "cell_type": "code",
   "execution_count": 17,
   "metadata": {},
   "outputs": [
    {
     "name": "stdout",
     "output_type": "stream",
     "text": [
      "(41082, 4950)\n",
      "(1, 4950)\n",
      "(20541, 4950)\n",
      "(20541, 4950)\n"
     ]
    }
   ],
   "source": [
    "#join train/validation and test set\n",
    "\n",
    "vel = np.concatenate((vel0,vel1),axis=1)\n",
    "z_f = np.concatenate((z_f0,z_f1),axis=1)\n",
    "Q_b = np.concatenate((Q_b0,Q_b1),axis=1)\n",
    "Z = np.concatenate((Z0,Z1),axis=1)\n",
    "vx, vy, _ = dp.xy_vel_sep(vel) #v_x/v_y separation\n",
    "\n",
    "#check data shape:\n",
    "print(vel.shape)\n",
    "print(z_f.shape)\n",
    "print(vx.shape)\n",
    "print(Z.shape)"
   ]
  },
  {
   "cell_type": "code",
   "execution_count": 18,
   "metadata": {},
   "outputs": [
    {
     "name": "stdout",
     "output_type": "stream",
     "text": [
      "(4950, 41, 501)\n"
     ]
    }
   ],
   "source": [
    "#put bathymetry in right shape:\n",
    "\n",
    "Z_dummy = Z.reshape(41,501,-1) \n",
    "Z_new = np.zeros((Z_dummy.shape[2],Z_dummy.shape[0],Z_dummy.shape[1])) \n",
    "for i in range(Z_dummy.shape[2]):\n",
    "    Z_new[i,:,:] = Z_dummy[:,:,i]     \n",
    "del Z_dummy\n",
    "\n",
    "#check Z_new shape:\n",
    "print(Z_new.shape)"
   ]
  },
  {
   "cell_type": "code",
   "execution_count": 19,
   "metadata": {},
   "outputs": [
    {
     "name": "stdout",
     "output_type": "stream",
     "text": [
      "(4950, 41, 501)\n"
     ]
    }
   ],
   "source": [
    "#put v_x in right shape:\n",
    "\n",
    "vx_dummy = vx.reshape(41,501,-1)\n",
    "vx_new = np.zeros((vx_dummy.shape[2],vx_dummy.shape[0],vx_dummy.shape[1]))\n",
    "for i in range(vx_dummy.shape[2]):\n",
    "    vx_new[i,:,:] = vx_dummy[:,:,i]\n",
    "del vx_dummy\n",
    "\n",
    "#check vx_new shape:\n",
    "print(vx_new.shape)"
   ]
  },
  {
   "cell_type": "code",
   "execution_count": 20,
   "metadata": {},
   "outputs": [
    {
     "name": "stdout",
     "output_type": "stream",
     "text": [
      "(4950, 41, 501)\n"
     ]
    }
   ],
   "source": [
    "#put v_y in right shape: \n",
    "\n",
    "vy_dummy = vy.reshape(41,501,-1)\n",
    "vy_new = np.zeros((vy_dummy.shape[2],vy_dummy.shape[0],vy_dummy.shape[1]))\n",
    "for i in range(vy_dummy.shape[2]):\n",
    "    vy_new[i,:,:] = vy_dummy[:,:,i]\n",
    "del vy_dummy\n",
    "\n",
    "#check vy_new shape:\n",
    "print(vy_new.shape)"
   ]
  },
  {
   "cell_type": "code",
   "execution_count": 21,
   "metadata": {},
   "outputs": [
    {
     "name": "stdout",
     "output_type": "stream",
     "text": [
      "(4950, 41, 501, 1)\n",
      "(4950, 41, 501, 1)\n"
     ]
    }
   ],
   "source": [
    "#add channel dimension:\n",
    "\n",
    "x_train = Z_new.reshape(-1,41,501,1) #input (Z)\n",
    "y_train_x = vx_new.reshape(-1,41,501,1) #output (vx)\n",
    "y_train_y = vy_new.reshape(-1,41,501,1) #output (vy)\n",
    "\n",
    "#check shapes:\n",
    "print(x_train.shape)\n",
    "print(y_train_x.shape)"
   ]
  },
  {
   "cell_type": "code",
   "execution_count": 22,
   "metadata": {},
   "outputs": [
    {
     "name": "stdout",
     "output_type": "stream",
     "text": [
      "(41, 501, 1)\n",
      "(41, 501, 1)\n",
      "(41, 501, 1)\n",
      "(41, 501, 1)\n"
     ]
    }
   ],
   "source": [
    "#find normalizing parameters:\n",
    "\n",
    "N=4500 # number of data to be used (train+validation)\n",
    "\n",
    "x_min = np.mean(x_train[:N,:,:,:], axis=0)\n",
    "y_min_x = np.mean(y_train_x[:N,:,:,:], axis=0)\n",
    "y_min_y = np.mean(y_train_y[:N,:,:,:], axis=0)\n",
    "\n",
    "x_range = np.std(x_train[:N,:,:,:], axis=0)\n",
    "x_range[x_range==0]=1\n",
    "\n",
    "y_range_x = np.std(y_train_x[:N,:,:,:], axis=0)\n",
    "y_range_x[y_range_x==0]=1\n",
    "\n",
    "y_range_y = np.std(y_train_y[:N,:,:,:], axis=0)\n",
    "y_range_y[y_range_y==0]=1\n",
    "\n",
    "#check shapes:\n",
    "print(x_min.shape)\n",
    "print(y_min_x.shape)\n",
    "print(x_range.shape)\n",
    "print(y_range_x.shape)"
   ]
  },
  {
   "cell_type": "code",
   "execution_count": 23,
   "metadata": {},
   "outputs": [
    {
     "name": "stdout",
     "output_type": "stream",
     "text": [
      "(4950, 41, 501, 1)\n",
      "(4950, 41, 501, 1)\n",
      "-4.711301465906763\n",
      "-10.378835518374794\n",
      "3.3733705633020246\n",
      "10.965771092609335\n"
     ]
    }
   ],
   "source": [
    "#normalize input/outputs:\n",
    "\n",
    "x_train_norm = (x_train-x_min)/x_range \n",
    "y_train_norm_x = (y_train_x-y_min_x)/y_range_x\n",
    "y_train_norm_y = (y_train_y-y_min_y)/y_range_y\n",
    "\n",
    "#check shapes:\n",
    "print(x_train_norm.shape)\n",
    "print(y_train_norm_x.shape)\n",
    "\n",
    "#check min/max:\n",
    "print(np.min(x_train_norm))\n",
    "print(np.min(y_train_norm_x))\n",
    "print(np.max(x_train_norm))\n",
    "print(np.max(y_train_norm_x))"
   ]
  },
  {
   "cell_type": "code",
   "execution_count": 24,
   "metadata": {},
   "outputs": [
    {
     "name": "stdout",
     "output_type": "stream",
     "text": [
      "(2, 4950)\n",
      "0.9531882083041187\n",
      "0.9988410701086574\n"
     ]
    }
   ],
   "source": [
    "#normalize BC (ensure it's between 0 and 1):\n",
    "\n",
    "BC = np.zeros((2, z_f.shape[1]))\n",
    "BC[0,:] = z_f/120\n",
    "BC[1,:] = Q_b/30000\n",
    "\n",
    "#check shapes and maxes:\n",
    "print(BC.shape)\n",
    "print(max(BC[0,:]))\n",
    "print(max(BC[1,:]))"
   ]
  },
  {
   "cell_type": "code",
   "execution_count": 25,
   "metadata": {},
   "outputs": [
    {
     "name": "stdout",
     "output_type": "stream",
     "text": [
      "18616\n"
     ]
    }
   ],
   "source": [
    "# data preparation:\n",
    "\n",
    "#generate a seed number for reproducibility:\n",
    "seed_num=np.random.randint(0,1e5) \n",
    "#seed_num=0 #use for reproducing a previously known seed #\n",
    "print(seed_num)\n",
    "\n",
    "#generate seed:\n",
    "np.random.seed(seed_num)\n",
    "\n",
    "M=0 #where the first index of data is\n",
    "P=450 #size of test set\n",
    "H=10 #number of BCs for each profile\n",
    "\n",
    "#shuffle based on the seed:\n",
    "indx=np.array(np.arange(0+M,x_train_norm[0:,:,:,:].shape[0]-P,H),dtype=int) #original indices (ascending) \n",
    "indx_new=copy.deepcopy(indx) #new (to be shuffled) indices\n",
    "np.random.shuffle(indx_new) #shuffled idices\n",
    "\n",
    "#create shuffled input/outputs:\n",
    "x_train_norm_shfl=copy.deepcopy(x_train_norm[0:,:,:,:])\n",
    "y_train_norm_shfl_x=copy.deepcopy(y_train_norm_x[0:,:,:,:])\n",
    "y_train_norm_shfl_y=copy.deepcopy(y_train_norm_y[0:,:,:,:])\n",
    "BC_shfl=copy.deepcopy(BC[:,0:])\n",
    "for i in range(indx_new.shape[0]):\n",
    "    x_train_norm_shfl[i*H+M:i*H+H+M,:,:,:]=x_train_norm[indx_new[i]:indx_new[i]+H,:,:,:]\n",
    "    y_train_norm_shfl_x[i*H+M:i*H+H+M,:,:,:]=y_train_norm_x[indx_new[i]:indx_new[i]+H,:,:,:]\n",
    "    y_train_norm_shfl_y[i*H+M:i*H+H+M,:,:,:]=y_train_norm_y[indx_new[i]:indx_new[i]+H,:,:,:]\n",
    "    BC_shfl[:,i*H+M:i*H+H+M]=BC[:,indx_new[i]:indx_new[i]+H]"
   ]
  },
  {
   "cell_type": "code",
   "execution_count": 26,
   "metadata": {},
   "outputs": [],
   "source": [
    "#training:\n",
    "\n",
    "val_split=0.1 #validation split (fraction of train/validation set to be used for validation)\n",
    "\n",
    "#vae.load_weights('vae_f_Sav_BC_func_m4500_8_16_32_B_700_50_l0_001_0_001tantanlr0_001noB_vxvyZ_Z_vyT_vxT.h5') #to load saved weights, if necessary\n",
    "vae.fit(x={'bathymetry':x_train_norm_shfl[:-P,:,:,:], 'BC':BC_shfl[:,:-P].T},\n",
    "        y=[y_train_norm_shfl_x[:-P,:40,:496,:],y_train_norm_shfl_y[:-P,:40,:496,:],\n",
    "           x_train_norm_shfl[:-P,:40,:496,:]],epochs=100,batch_size=32,shuffle=False,validation_split=val_split)\n",
    "vae.save_weights('vae_f_Sav_BC_func_m4500_8_16_32_B_700_50_l0_001_0_001tantanlr0_001noB_vxvyZ_Z_vyT_vxT.h5') #to save optimized weights"
   ]
  },
  {
   "cell_type": "code",
   "execution_count": 27,
   "metadata": {},
   "outputs": [
    {
     "name": "stdout",
     "output_type": "stream",
     "text": [
      "(4950, 40, 496, 1)\n"
     ]
    }
   ],
   "source": [
    "#calculate SVE predictions (normalized):\n",
    "\n",
    "z_mean_pred, z_log_pred, z_pred= encoder.predict(x_train_norm_shfl) #encoder output\n",
    "y_decoded_pred_x = decoder_vx.predict([z_mean_pred,BC_shfl.T]) #decoder output v_x\n",
    "y_decoded_pred_y = decoder_vy.predict([z_mean_pred,BC_shfl.T]) #decoder output v_y\n",
    "y_decoded_pred_Z = decoder_Z.predict([z_mean_pred,BC_shfl.T]) #decoder output Z\n",
    "\n",
    "#check shape:\n",
    "print(y_decoded_pred_x.shape)"
   ]
  },
  {
   "cell_type": "code",
   "execution_count": 28,
   "metadata": {},
   "outputs": [
    {
     "name": "stdout",
     "output_type": "stream",
     "text": [
      "(4950, 40, 496, 1)\n"
     ]
    }
   ],
   "source": [
    "#calculate SVE predictions:\n",
    "\n",
    "n=496\n",
    "y_pred_x=y_decoded_pred_x*y_range_x[:40,:n,:]+y_min_x[:40,:n,:] #predicted output\n",
    "y_pred_y=y_decoded_pred_y*y_range_y[:40,:n,:]+y_min_y[:40,:n,:] #predicted output\n",
    "y_pred_Z=y_decoded_pred_Z*x_range[:40,:n,:]+x_min[:40,:n,:] #predicted output\n",
    "\n",
    "#check shape:\n",
    "print(y_pred_x.shape)"
   ]
  },
  {
   "cell_type": "code",
   "execution_count": 29,
   "metadata": {},
   "outputs": [
    {
     "name": "stdout",
     "output_type": "stream",
     "text": [
      "train err v_x [ft/s]: 0.1127950686097367\n",
      "test err v_x [ft/s]: 0.11782598929897875\n",
      "validation err v_x [ft/s]: 0.13086188234200244\n"
     ]
    }
   ],
   "source": [
    "#rmse of train/test/validation for v_x:\n",
    "\n",
    "y_true_x=y_train_norm_shfl_x[:,:40,:n]*y_range_x[:40,:n,:]+y_min_x[:40,:n,:]\n",
    "print('train err v_x [ft/s]:',np.sqrt(np.mean((y_pred_x[:int(N-val_split*N),:,:]-y_true_x[:int(N-val_split*N),:40,:n])**2)))\n",
    "print('test err v_x [ft/s]:',np.sqrt(np.mean((y_pred_x[int(N-val_split*N):N,:,:]-y_true_x[int(N-val_split*N):N,:40,:n])**2)))\n",
    "print('validation err v_x [ft/s]:',np.sqrt(np.mean((y_pred_x[N:,:,:]-y_true_x[N:,:40,:n])**2)))"
   ]
  },
  {
   "cell_type": "code",
   "execution_count": 30,
   "metadata": {},
   "outputs": [
    {
     "name": "stdout",
     "output_type": "stream",
     "text": [
      "train err v_y [ft/s]: 0.0826029932215535\n",
      "test err v_y [ft/s]: 0.09235078612959324\n",
      "validation err v_y [ft/s]: 0.09909476261351687\n"
     ]
    }
   ],
   "source": [
    "#rmse of train/test/validation for v_y:\n",
    "\n",
    "y_true_y=y_train_norm_shfl_y[:,:40,:n]*y_range_y[:40,:n,:]+y_min_y[:40,:n,:]\n",
    "print('train err v_y [ft/s]:',np.sqrt(np.mean((y_pred_y[:int(N-val_split*N),:,:]-y_true_y[:int(N-val_split*N),:40,:n])**2)))\n",
    "print('test err v_y [ft/s]:',np.sqrt(np.mean((y_pred_y[int(N-val_split*N):N,:,:]-y_true_y[int(N-val_split*N):N,:40,:n])**2)))\n",
    "print('validation err v_y [ft/s]:',np.sqrt(np.mean((y_pred_y[N:,:,:]-y_true_y[N:,:40,:n])**2)))"
   ]
  },
  {
   "cell_type": "code",
   "execution_count": 31,
   "metadata": {},
   "outputs": [
    {
     "name": "stdout",
     "output_type": "stream",
     "text": [
      "train err Z [ft]: 0.8200800355286811\n",
      "test err Z [ft]: 0.8003441821530514\n",
      "validation err Z [ft]: 1.0494087700998203\n"
     ]
    }
   ],
   "source": [
    "#rmse of train/test/validation for Z (bathymetry):\n",
    "\n",
    "y_true_Z=x_train_norm_shfl[:,:40,:n]*x_range[:40,:n,:]+x_min[:40,:n,:]\n",
    "print('train err Z [ft]:',np.sqrt(np.mean((y_pred_Z[:int(N-val_split*N),:,:]-y_true_Z[:int(N-val_split*N),:40,:n])**2)))\n",
    "print('test err Z [ft]:',np.sqrt(np.mean((y_pred_Z[int(N-val_split*N):N,:,:]-y_true_Z[int(N-val_split*N):N,:40,:n])**2)))\n",
    "print('validation err Z [ft]:',np.sqrt(np.mean((y_pred_Z[N:,:,:]-y_true_Z[N:,:40,:n])**2)))"
   ]
  },
  {
   "cell_type": "code",
   "execution_count": 32,
   "metadata": {},
   "outputs": [],
   "source": [
    "# plot preparation (v_x); can be done similarly for v_y and Z\n",
    "\n",
    "N=4950\n",
    "x_pred_sparse_x=np.zeros((N,41, 501))\n",
    "x_pred_sparse_x[:,:40,:496]=y_pred_x[:,:40,:496].squeeze()\n",
    "x_pred_sparse_x[:, 40,:]=x_pred_sparse_x[:, 38,:]\n",
    "x_pred_sparse_x[:, 39,:]=x_pred_sparse_x[:, 38,:]\n",
    "x_pred_sparse_x[:, :,495]=x_pred_sparse_x[:, :,494]\n",
    "x_pred_sparse_x[:, :,496]=x_pred_sparse_x[:, :,494]\n",
    "x_pred_sparse_x[:, :,497]=x_pred_sparse_x[:, :,494]\n",
    "x_pred_sparse_x[:, :,498]=x_pred_sparse_x[:, :,494]\n",
    "x_pred_sparse_x[:, :,499]=x_pred_sparse_x[:, :,494]\n",
    "x_pred_sparse_x[:, :,500]=x_pred_sparse_x[:, :,494]\n",
    "y_pred_sparse_x=np.zeros((N,41, 501))\n",
    "y_pred_sparse_x[:,:40,:496]=y_true_x[:,:40,:496].squeeze()\n",
    "y_pred_sparse_x[:, 40,:]=y_pred_sparse_x[:, 38,:]\n",
    "y_pred_sparse_x[:, 39,:]=y_pred_sparse_x[:, 38,:]\n",
    "y_pred_sparse_x[:, :,495]=y_pred_sparse_x[:, :,494]\n",
    "y_pred_sparse_x[:, :,496]=y_pred_sparse_x[:, :,494]\n",
    "y_pred_sparse_x[:, :,497]=y_pred_sparse_x[:, :,494]\n",
    "y_pred_sparse_x[:, :,498]=y_pred_sparse_x[:, :,494]\n",
    "y_pred_sparse_x[:, :,499]=y_pred_sparse_x[:, :,494]\n",
    "y_pred_sparse_x[:, :,500]=y_pred_sparse_x[:, :,494]"
   ]
  },
  {
   "cell_type": "code",
   "execution_count": null,
   "metadata": {},
   "outputs": [],
   "source": [
    "ind=60 #data point index to plot its true vs estimated v_x (or v_y, or Z)\n",
    "\n",
    "dp.plt_im_tri(depth=y_pred_sparse_x[ind, :,:].ravel(), fig_title= 'reference', fig_name='ref_v_x.png',vmin_=0, vmax_=0.5)\n",
    "dp.plt_im_tri(depth=(x_pred_sparse_x[ind, :,:]).ravel(), fig_title= 'SVE prediction (dim=50)', fig_name='SVE_v_x.png',vmin_=0, vmax_=0.5)"
   ]
  },
  {
   "cell_type": "code",
   "execution_count": 62,
   "metadata": {},
   "outputs": [],
   "source": [
    "# import relevant libraries for inversion (MAP estimator)\n",
    "\n",
    "import tensorflow as tf\n",
    "import numpy as np\n",
    "import matplotlib.pyplot as plt\n",
    "from scipy.io import loadmat\n",
    "import time\n",
    "\n",
    "import matplotlib\n",
    "matplotlib.rcParams.update({'font.size': 20})\n",
    "\n",
    "from scipy.sparse.linalg import LinearOperator, cg\n",
    "import scipy.optimize as opt"
   ]
  },
  {
   "cell_type": "code",
   "execution_count": 64,
   "metadata": {},
   "outputs": [
    {
     "name": "stdout",
     "output_type": "stream",
     "text": [
      "(41, 501)\n"
     ]
    }
   ],
   "source": [
    "# import relevant parameters for inversion (based on trained and saved ROM parameters)\n",
    "\n",
    "scale_param = np.load('scale_sve_const.npy')\n",
    "scale_smin = scale_param[:,:,0]\n",
    "scale_srange = scale_param[:,:,1]\n",
    "scale_vxmin = scale_param[:,:,2]\n",
    "scale_vxrange = scale_param[:,:,3]\n",
    "scale_vymin = scale_param[:,:,4]\n",
    "scale_vyrange = scale_param[:,:,5]\n",
    "\n",
    "scale_smin=x_min.squeeze()\n",
    "scale_srange=x_range.squeeze()\n",
    "scale_vxmin=y_min_x.squeeze()\n",
    "scale_vxrange=y_range_x.squeeze()\n",
    "scale_vymin=y_min_y.squeeze()\n",
    "scale_vyrange=y_range_y.squeeze()\n",
    "print(scale_smin.shape)\n",
    "\n",
    "# due to CNN architecture (maxpooling)\n",
    "scale_vxmin = scale_vxmin[:40,:496]\n",
    "scale_vxrange = scale_vxrange[:40,:496]\n",
    " \n",
    "scale_vymin = scale_vymin[:40,:496]\n",
    "scale_vyrange = scale_vyrange[:40,:496]\n",
    " \n",
    "scale_BCrange = np.zeros((2,1))\n",
    "scale_BCrange[0] = 120.\n",
    "scale_BCrange[1] = 30000."
   ]
  },
  {
   "cell_type": "code",
   "execution_count": 65,
   "metadata": {},
   "outputs": [],
   "source": [
    "# import relevant plotting files\n",
    "\n",
    "mesh=loadmat(\"mesh.mat\")\n",
    "triangles = mesh['triangles'] #'triangles.txt'\n",
    "meshnode   = mesh['meshnode'] #'meshnode.txt'\n",
    "x0=0\n",
    "xf=40\n",
    "y0=0\n",
    "yf=496\n",
    "dx=1\n",
    "dy=1"
   ]
  },
  {
   "cell_type": "code",
   "execution_count": 67,
   "metadata": {},
   "outputs": [
    {
     "name": "stdout",
     "output_type": "stream",
     "text": [
      "[[0.84104558]\n",
      " [0.25572422]]\n",
      "(19840,)\n",
      "(39680, 1)\n"
     ]
    }
   ],
   "source": [
    "# import relevant parameters for inversion (based on trained and saved ROM parameters)\n",
    "\n",
    "nx, ny = 501, 41\n",
    "BC_scaled = np.loadtxt('BC_true3.txt').reshape(2,1) # thoses values already scaled.\n",
    "print(BC_scaled)\n",
    "s_true = np.loadtxt('true3.txt')\n",
    "obsx = np.loadtxt('obs3_vx.txt')\n",
    "obsy = np.loadtxt('obs3_vy.txt')\n",
    "print(obsx.reshape(40,496)[x0:xf:dx,y0:yf:dy].reshape(-1).shape)\n",
    "obsx=obsx.reshape(40,496)[x0:xf:dx,y0:yf:dy].reshape(-1)\n",
    "obsy=obsy.reshape(40,496)[x0:xf:dx,y0:yf:dy].reshape(-1)\n",
    "obs = np.hstack([obsx.reshape(-1),obsy.reshape(-1)]).reshape(-1,1)\n",
    "\n",
    "obs = obs + 0.05*np.random.randn(obs.shape[0],obs.shape[1])\n",
    "print(obs.shape)"
   ]
  },
  {
   "cell_type": "code",
   "execution_count": 69,
   "metadata": {},
   "outputs": [
    {
     "name": "stdout",
     "output_type": "stream",
     "text": [
      "(39680, 1)\n"
     ]
    }
   ],
   "source": [
    "# dimensions \n",
    "\n",
    "m = 50 # latent_dim\n",
    "nobs = obs.shape[0] # # of obs.\n",
    "print(obs.shape)"
   ]
  },
  {
   "cell_type": "code",
   "execution_count": 70,
   "metadata": {},
   "outputs": [],
   "source": [
    "# prior mean (and intial guess)\n",
    "\n",
    "# prior covariance\n",
    "Sigma = 1.0**2\n",
    "z_init = np.random.randn(m,1)"
   ]
  },
  {
   "cell_type": "code",
   "execution_count": 71,
   "metadata": {},
   "outputs": [
    {
     "name": "stdout",
     "output_type": "stream",
     "text": [
      "1.1920929e-07\n"
     ]
    }
   ],
   "source": [
    "# machine precision for finite difference\n",
    "\n",
    "precision = np.finfo(np.float32).eps # for optimal FD delta\n",
    "\n",
    "print(precision)"
   ]
  },
  {
   "cell_type": "code",
   "execution_count": 72,
   "metadata": {},
   "outputs": [],
   "source": [
    "# error matrix (assuming known)\n",
    "\n",
    "R = 2.0**2\n",
    "invR = 1./R"
   ]
  },
  {
   "cell_type": "code",
   "execution_count": 74,
   "metadata": {},
   "outputs": [],
   "source": [
    "itermax = 10\n",
    "\n",
    "# tol = define... #another stopping criteria"
   ]
  },
  {
   "cell_type": "code",
   "execution_count": 75,
   "metadata": {},
   "outputs": [],
   "source": [
    "# forward map function (from latent space, z, to v_x and v_y)\n",
    "\n",
    "def forward(z):\n",
    "    #  from z to simulated velocity\n",
    "\n",
    "    vx = decoder_vx.predict([z.T,BC_ind.T])\n",
    "    vy = decoder_vy.predict([z.T,BC_ind.T])\n",
    "    simul_obs_vx = (np.multiply(vx.reshape(40,496),scale_vxrange) + scale_vxmin)[x0:xf:dx,y0:yf:dy]\n",
    "    simul_obs_vy = (np.multiply(vy.reshape(40,496),scale_vyrange) + scale_vymin)[x0:xf:dx,y0:yf:dy]\n",
    "\n",
    "    simul_obs_vx = simul_obs_vx.reshape(-1)\n",
    "    simul_obs_vy = simul_obs_vy.reshape(-1)\n",
    "    simul_obs = np.hstack((simul_obs_vx,simul_obs_vy))\n",
    "    \n",
    "    return simul_obs.reshape(-1,1)"
   ]
  },
  {
   "cell_type": "code",
   "execution_count": 85,
   "metadata": {},
   "outputs": [],
   "source": [
    "# encoder function\n",
    "\n",
    "def nonlinear_forward_model(s):\n",
    "    # s to simulated velocity\n",
    "\n",
    "    s2d_scaled = (s.reshape(ny,nx) - scale_smin)/scale_srange\n",
    "    z, _, _ = encoder.predict(s2d_scaled.reshape(1,ny,nx,1)) #encoder output\n",
    "\n",
    "    simul_obs = forward(z.T)\n",
    "    return simul_obs"
   ]
  },
  {
   "cell_type": "code",
   "execution_count": 84,
   "metadata": {},
   "outputs": [],
   "source": [
    "# rmse calculation function\n",
    "\n",
    "def rmse(z):\n",
    "    # compute rmse between obs. and simulated velocity\n",
    "   \n",
    "    res = np.hstack((y_pred_x[ind+shft,x0:xf:dx,y0:yf:dy].reshape(-1,obs.shape[0]//2),\n",
    "                     y_pred_y[ind+shft,x0:xf:dx,y0:yf:dy].reshape(-1,obs.shape[0]//2))).reshape(-1,1) - forward(z)\n",
    "   \n",
    "    return np.sqrt(np.sum(res**2)/nobs)"
   ]
  },
  {
   "cell_type": "code",
   "execution_count": 83,
   "metadata": {},
   "outputs": [],
   "source": [
    "# optimization objective function (MAP estimator)\n",
    "\n",
    "def obj_func(z):\n",
    "    # objective function value to be minimized\n",
    "    \n",
    "    res = np.hstack((y_pred_x[ind+shft,x0:xf:dx,y0:yf:dy].reshape(-1,obs.shape[0]//2),\n",
    "                     y_pred_y[ind+shft,x0:xf:dx,y0:yf:dy].reshape(-1,obs.shape[0]//2))).reshape(-1,1) - forward(z)\n",
    "    zvec = z.reshape(-1,1)\n",
    "  \n",
    "    return (np.dot(res.T,np.dot(invR,res)) + Sigma*np.dot(zvec.T,zvec)).reshape(-1)"
   ]
  },
  {
   "cell_type": "code",
   "execution_count": 79,
   "metadata": {},
   "outputs": [],
   "source": [
    "# line search\n",
    "\n",
    "def obj_func_linesearch(alpha,*args):\n",
    "    # simple line search - it is not optimal but the forward model is not expensive. \n",
    "    \n",
    "    x0 = args[0]\n",
    "    direction = args[1]\n",
    "    return obj_func((1-alpha)*x0+alpha*direction)"
   ]
  },
  {
   "cell_type": "code",
   "execution_count": 80,
   "metadata": {},
   "outputs": [],
   "source": [
    "# encoding s (bathymetry) to z (latent space)\n",
    "\n",
    "def s_to_z(s):\n",
    "    # encoding s to z \n",
    "    \n",
    "    s2d_scaled = (s.reshape(ny,nx) - scale_smin)/scale_srange\n",
    "    z, _, _ = encoder.predict(s2d_scaled.reshape(1,ny,nx,1)) #encoder_vx output\n",
    "  \n",
    "    return z"
   ]
  },
  {
   "cell_type": "code",
   "execution_count": 81,
   "metadata": {},
   "outputs": [],
   "source": [
    "# decoding z (latent space) to s (bathymetry)\n",
    "\n",
    "def z_to_s(z):\n",
    "    # decoding z to s\n",
    "    \n",
    "    s = decoder_Z.predict([z.T,BC_ind.T])\n",
    "  \n",
    "    s_pred = np.zeros((ny,nx))\n",
    "    s_pred[:40,:496] = s.reshape(40,496)*scale_srange[:40,:496] + scale_smin[:40,:496]\n",
    "    s_pred[40,:] = s_pred[39,:]\n",
    "    s_pred[:,496:] = s_pred[:,495:496]\n",
    "\n",
    "    return s_pred"
   ]
  },
  {
   "cell_type": "code",
   "execution_count": 90,
   "metadata": {},
   "outputs": [
    {
     "name": "stdout",
     "output_type": "stream",
     "text": [
      "0\n",
      "objective, RMSE and zRMSE at z_init: 1.836406e+03, 4.230771e-01, 1.003961e+01\n",
      "(1) iter 0 evaluate Jacobian using FD\n",
      "(2) Compute inverse solution\n",
      "(3) line search\n",
      "alpha [0.97249341]\n",
      "objective, RMSE and zRMSE at iter 1: 3.872145e+01, 3.019408e-02, 8.355942e+00\n",
      "(1) iter 1 evaluate Jacobian using FD\n",
      "(2) Compute inverse solution\n",
      "(3) line search\n",
      "alpha [0.98329]\n",
      "objective, RMSE and zRMSE at iter 2: 3.507433e+01, 1.977130e-02, 8.447167e+00\n",
      "(1) iter 2 evaluate Jacobian using FD\n",
      "(2) Compute inverse solution\n",
      "(3) line search\n",
      "alpha [0.03260684]\n",
      "objective, RMSE and zRMSE at iter 3: 3.507428e+01, 1.977809e-02, 8.447016e+00\n",
      "(1) iter 3 evaluate Jacobian using FD\n",
      "(2) Compute inverse solution\n",
      "(3) line search\n",
      "alpha [0.31770166]\n",
      "objective, RMSE and zRMSE at iter 4: 3.507067e+01, 1.985654e-02, 8.444667e+00\n",
      "(1) iter 4 evaluate Jacobian using FD\n",
      "(2) Compute inverse solution\n",
      "(3) line search\n",
      "alpha [1.18359692]\n",
      "objective, RMSE and zRMSE at iter 5: 3.506455e+01, 1.977735e-02, 8.445761e+00\n",
      "(1) iter 5 evaluate Jacobian using FD\n",
      "(2) Compute inverse solution\n",
      "(3) line search\n",
      "alpha [-1.96252141e-08]\n",
      "objective, RMSE and zRMSE at iter 6: 3.506455e+01, 1.977735e-02, 8.445761e+00\n",
      "Inversion time: 5.227897 seconds\n"
     ]
    }
   ],
   "source": [
    "# MAP estimation iteration:\n",
    "\n",
    "import time\n",
    "from scipy.sparse.linalg import LinearOperator, cg\n",
    "import scipy.optimize as opt\n",
    "\n",
    "ind_s=0 #index in test set (or index of the first data point in a set when using MAP for multiple data points)\n",
    "shft=4500+ind_s #shift the data index to account for the first 4500 data points (train + validation sets) \n",
    "\n",
    "S_true=np.zeros((1,41,501)) # true bathymetries\n",
    "S_est=np.zeros((1,41,501)) #estimated bathymetries\n",
    "\n",
    "for ind in range(0,1): # can be other than 1 to estimate MAP for multiple data points (see comment on ind_s)\n",
    "    print(ind)\n",
    "    s_true=x_train_norm_shfl[ind+shft,:,:]*x_range+x_min\n",
    "    S_true[ind,:,:]=s_true.reshape(1,41,501)\n",
    "    z_true = s_to_z(s_true)\n",
    "    BC_ind=BC_shfl[:,shft+ind:shft+ind+1]\n",
    "    obj_func(z_init)\n",
    "    z_cur = np.copy(z_init)\n",
    "\n",
    "    obs=np.hstack((y_pred_x[ind+shft,x0:xf:dx,y0:yf:dy].reshape(-1,obs.shape[0]//2),\n",
    "                   y_pred_y[ind+shft,x0:xf:dx,y0:yf:dy].reshape(-1,obs.shape[0]//2))).reshape(-1,1)+0.05*np.random.randn(obs.shape[0],obs.shape[1])\n",
    "\n",
    "    t = time.time()\n",
    "\n",
    "    print('objective, RMSE and zRMSE at z_init: %e, %e, %e' % (obj_func(z_init),rmse(z_init), np.sqrt(np.sum(((z_cur-z_true)**2)/m))))\n",
    "    for i in range(itermax):\n",
    "        J_cur = np.zeros((nobs,m))\n",
    "        forward_z_cur = forward(z_cur)\n",
    "        print('(1) iter %d evaluate Jacobian using FD' % i)\n",
    "        for j in range(m):\n",
    "            zerovec = np.zeros((m,1))\n",
    "            zerovec[j] = 1.\n",
    "\n",
    "    # following PCGA delta calculation (also see Brown and Saad, 1990)\n",
    "            mag = np.dot(z_cur.T,zerovec)\n",
    "            absmag = np.dot(abs(z_cur.T),abs(zerovec))\n",
    "            if mag >= 0:\n",
    "                signmag = 1.\n",
    "            else:\n",
    "                signmag = -1.\n",
    "    \n",
    "            delta = signmag*np.sqrt(precision)*(max(abs(mag),absmag))/((np.linalg.norm(zerovec)+ np.finfo(float).eps)**2)\n",
    "            if delta == 0:\n",
    "                delta = np.sqrt(precision)\n",
    "\n",
    "            J_cur[:,j:j+1] = (forward(z_cur+zerovec*delta) - forward_z_cur)/delta\n",
    " \n",
    "        print('(2) Compute inverse solution' )  \n",
    "        Jz_cur = np.dot(J_cur,z_cur)\n",
    "\n",
    "        def mv(v):\n",
    "            return Sigma*np.dot(J_cur,np.dot(J_cur.T,v)) + R*v\n",
    "\n",
    "        Cauto = LinearOperator((nobs, nobs), matvec=mv)\n",
    "        x_tmp, ret = cg(Cauto, obs - forward_z_cur + Jz_cur)\n",
    "        if ret != 0:\n",
    "            print(ret)\n",
    "        dz = Sigma*np.dot(J_cur.T, x_tmp.reshape(-1,1))  \n",
    "  \n",
    "        print('(3) line search' )  \n",
    "        res = opt.minimize_scalar(fun=obj_func_linesearch,args=(z_cur,dz))\n",
    "        alpha = res.x\n",
    "        print('alpha',alpha)\n",
    "        # update (need linear search)\n",
    "        z_cur = np.copy((1-alpha)*z_cur + alpha*dz)\n",
    "  \n",
    "        print('objective, RMSE and zRMSE at iter %d: %e, %e, %e' % (i+1,obj_func(z_cur), rmse(z_cur), np.sqrt(np.sum(((z_cur-z_true)**2)/m))))\n",
    "        if np.abs(alpha) < 1.e-2: #was 2\n",
    "            z_est = z_cur\n",
    "            break\n",
    "\n",
    "        z_est = z_cur\n",
    "\n",
    "    elapsed = time.time() - t\n",
    "    print('Inversion time: %f seconds' % (elapsed))\n",
    "\n",
    "    s_est = z_to_s(z_est)\n",
    "    S_est[ind,:]=s_est\n",
    "\n",
    "    simul_obs_s_est = nonlinear_forward_model(s_est)\n",
    "    \n",
    "S_true_all=S_true\n",
    "S_est_all=S_est"
   ]
  },
  {
   "cell_type": "code",
   "execution_count": 91,
   "metadata": {},
   "outputs": [
    {
     "data": {
      "image/png": "[encoded data removed]",
      "text/plain": [
       "<Figure size 1700x500 with 3 Axes>"
      ]
     },
     "metadata": {
      "needs_background": "light"
     },
     "output_type": "display_data"
    }
   ],
   "source": [
    "# plot MAP estimation vs true bathymetry\n",
    "\n",
    "id=0 #index to plot (index among the data set picked above; if there is only one MAP estimation, then id=0)\n",
    "\n",
    "mesh=loadmat(\"mesh.mat\")\n",
    "triangles = mesh['triangles']\n",
    "meshnode   = mesh['meshnode']\n",
    "# plot centered (0,0) in meter\n",
    "ft_to_m = 0.3010\n",
    "offsetx = 220793.\n",
    "offsety = 364110.\n",
    "\n",
    "fig, axes = plt.subplots(1,2, sharey = True, figsize=(17.,5.),dpi = 100)\n",
    "\n",
    "im1=axes[0].tripcolor(meshnode[:,0]*ft_to_m-offsetx,meshnode[:,1]*ft_to_m-offsety,triangles, S_true_all[id,:].reshape(-1)*ft_to_m,shading='gouraud', cmap=plt.get_cmap('jet'),vmin=21.0,vmax=29.0)\n",
    "axes[0].set_title('(a) True', loc='left')\n",
    "axes[0].set_ylabel(\"Northing [m]\")\n",
    "axes[0].set_xlabel(\"Easting [m]\")\n",
    "axes[0].axis('equal')\n",
    "#axes[0].set_xticks([])\n",
    "#axes[0].set_yticks([])\n",
    "axes[1].tripcolor(meshnode[:,0]*ft_to_m-offsetx,meshnode[:,1]*ft_to_m-offsety,triangles,S_est_all[id,:].reshape(-1)*ft_to_m,shading='gouraud', cmap=plt.get_cmap('jet'),vmin=21.0,vmax=29.0)\n",
    "axes[1].set_title('(b) Estimate using the latent space', loc='left')\n",
    "axes[1].axis('equal')\n",
    "axes[1].set_xlabel(\"Easting [m]\")\n",
    "#axes[1].set_xticks([])\n",
    "#axes[1].set_yticks([])\n",
    "\n",
    "cax1 = fig.add_axes([0.95,0.13,0.01,0.75]) # 30pts\n",
    "cbar1 = fig.colorbar(im1, cax=cax1, orientation='vertical',ticks=[21,23,25,27,29])\n",
    "cbar1.ax.set_xticklabels(['21', '23','25', '27','29'])# horizontal colorbar\n",
    "cbar1.ax.set_title('[m]')\n",
    "\n",
    "plt.tight_layout(rect=[0.0,0.0,0.96,1.0])"
   ]
  },
  {
   "cell_type": "code",
   "execution_count": 92,
   "metadata": {},
   "outputs": [],
   "source": [
    "# calculate covariance matrix\n",
    "\n",
    "invQ = np.eye(m) + np.dot(J_cur.T, J_cur) "
   ]
  },
  {
   "cell_type": "code",
   "execution_count": 93,
   "metadata": {},
   "outputs": [],
   "source": [
    "# perform eigen-decomposition of Q-inverse\n",
    "\n",
    "w,v=np.linalg.eig(invQ)\n",
    " \n",
    "idx = w.argsort() # decreasing order for inversion\n",
    "invS = w[idx]\n",
    "U = v[:,idx]"
   ]
  },
  {
   "cell_type": "code",
   "execution_count": 94,
   "metadata": {},
   "outputs": [
    {
     "name": "stdout",
     "output_type": "stream",
     "text": [
      "-0.111199416 0.900485\n",
      "-0.09131711639150372 0.7844419943293752\n"
     ]
    },
    {
     "data": {
      "image/png": "[encoded data removed]",
      "text/plain": [
       "<Figure size 432x288 with 1 Axes>"
      ]
     },
     "metadata": {
      "needs_background": "light"
     },
     "output_type": "display_data"
    }
   ],
   "source": [
    "# latent space plot (estimated vs true)\n",
    "\n",
    "plt.figure()\n",
    "plt.hist(z_true.T,10, alpha=0.5, label = 'z_true')\n",
    "plt.hist(z_est,10, alpha=0.5, label ='z_est')\n",
    "plt.legend(loc='upper right')\n",
    "plt.title('estimated z')\n",
    "print(np.mean(z_true), np.std(z_true))\n",
    "print(np.mean(z_est),np.std(z_est))\n",
    "plt.show()"
   ]
  },
  {
   "cell_type": "code",
   "execution_count": 95,
   "metadata": {},
   "outputs": [
    {
     "name": "stdout",
     "output_type": "stream",
     "text": [
      "-0.111199416 0.900485\n",
      "-0.09131711639150372 0.7844419943293752\n"
     ]
    },
    {
     "data": {
      "image/png": "[encoded data removed]",
      "text/plain": [
       "<Figure size 432x288 with 1 Axes>"
      ]
     },
     "metadata": {
      "needs_background": "light"
     },
     "output_type": "display_data"
    }
   ],
   "source": [
    "# latent space plot (initial vs true)\n",
    "\n",
    "plt.figure()\n",
    "plt.hist(z_true.T,10, alpha=0.5, label = 'z_true')\n",
    "plt.hist(z_init,10, alpha=0.5, label ='z_init')\n",
    "plt.legend(loc='upper right')\n",
    "plt.title('initial z')\n",
    "print(np.mean(z_true), np.std(z_true))\n",
    "print(np.mean(z_est),np.std(z_est))"
   ]
  },
  {
   "cell_type": "code",
   "execution_count": 96,
   "metadata": {},
   "outputs": [
    {
     "data": {
      "text/plain": [
       "Text(0.5, 1.0, 'Eigenspectrum of $Q_{post,z}$')"
      ]
     },
     "execution_count": 96,
     "metadata": {},
     "output_type": "execute_result"
    },
    {
     "data": {
      "image/png": "[encoded data removed]",
      "text/plain": [
       "<Figure size 432x288 with 1 Axes>"
      ]
     },
     "metadata": {
      "needs_background": "light"
     },
     "output_type": "display_data"
    }
   ],
   "source": [
    "# eigen-spectrum plot\n",
    "\n",
    "fig=plt.figure()\n",
    "ax = fig.add_subplot(111)\n",
    "plt.plot(np.r_[1:m+1:],1./invS,'.', color='red')\n",
    "\n",
    "plt.xlabel('index')\n",
    "plt.ylabel('eigv')\n",
    "\n",
    "plt.title(r'Eigenspectrum of $Q_{post,z}$')"
   ]
  },
  {
   "cell_type": "code",
   "execution_count": null,
   "metadata": {},
   "outputs": [],
   "source": []
  }
 ],
 "metadata": {
  "kernelspec": {
   "display_name": "Python 3",
   "language": "python",
   "name": "python3"
  },
  "language_info": {
   "codemirror_mode": {
    "name": "ipython",
    "version": 3
   },
   "file_extension": ".py",
   "mimetype": "text/x-python",
   "name": "python",
   "nbconvert_exporter": "python",
   "pygments_lexer": "ipython3",
   "version": "3.7.4"
  }
 },
 "nbformat": 4,
 "nbformat_minor": 4
}
